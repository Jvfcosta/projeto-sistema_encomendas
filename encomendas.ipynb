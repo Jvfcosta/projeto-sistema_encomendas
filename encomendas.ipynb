{
 "cells": [
  {
   "cell_type": "code",
   "execution_count": null,
   "id": "5c91451b-8049-488f-8c6c-95d351f0df51",
   "metadata": {},
   "outputs": [],
   "source": [
    "# Passo a Passo Simplificado: Sistema de Encomendas\n",
    "# 1. Configuração Inicial\n",
    "#    1.1. Criar lista de produtos - ok\n",
    "#    1.1. Exibir lista de produtos disponíveis - OK\n",
    "#    1.3. Criar dicionário vazio para armazenar encomendas dos clientes - OK\n",
    "\n",
    "# 2. Verificar se o cliente existe\n",
    "#    2.1. Input para inserir o nome do cliente - OK\n",
    "#    2.1. Verificar se o cliente ja existe - OK\n",
    "#    2.2. Criar lista vazia para os produtos do cliente atual\n",
    "\n",
    "# 3. Seleção de Produtos\n",
    "   # 3.1. Input para o cliente selecionar um produto - OK\n",
    "   # 3.2. Input para a quantidade desejada do produto - OK\n",
    "   # 3.3. Verificar se há estoque suficiente\n",
    "   # 3.4. Se houver estoque, adicionar produto à lista de produtos do cliente\n",
    "   3.5. Atualizar o estoque do produto\n",
    "\n",
    "4. Gerenciamento do Carrinho  \n",
    "   # 4.1. Adicionar a lista de produtos selecionados ao dicionário de encomendas, usando o nome do cliente como chave\n",
    "   4.2. Opção para o cliente adicionar mais produtos ou finalizar a compra\n",
    "        loop while\n",
    "        condição para encerrar a compra\n",
    "\n",
    "5. Cálculo e Finalização\n",
    "   5.1. Calcular o total da compra\n",
    "   5.2. Verificar se o total atinge o valor para desconto\n",
    "   5.3. Aplicar desconto, se aplicável\n",
    "   5.4. Exibir resumo da compra para o cliente\n",
    "\n",
    "6. Conclusão da Venda\n",
    "   6.1. Finalizar a venda, removendo os produtos do estoque permanentemente\n",
    "   6.2. Limpar o carrinho do cliente no dicionário de encomendas\n",
    "\n",
    "7. Novo Ciclo\n",
    "   7.1. Perguntar se há um novo cliente\n",
    "   7.2. Se sim, voltar ao passo 2; se não, encerrar o programa\n",
    "\n",
    "8. Gerenciamento de Estoque\n",
    "   8.1. Opção para atualizar quantidades de produtos existentes\n",
    "\n",
    "# 9. (Opcional) Relatórios\n",
    "#    9.1. Gerar relatório de vendas\n",
    "#    9.2. Gerar relatório de estoque atual"
   ]
  },
  {
   "cell_type": "code",
   "execution_count": 72,
   "id": "cd6d5766-282d-49fa-bef4-a218bc093c56",
   "metadata": {},
   "outputs": [
    {
     "name": "stdout",
     "output_type": "stream",
     "text": [
      "                                         LISTA DE PRODUTOS                                          \n",
      "\n",
      "\n",
      "[\u001b[1;33m1\u001b[m]. Ração Golden Adulto (15kg) Cães...........  Categoria: Alimento.... Preço: R$ 149.99 ... Unidades: 15\n",
      "\n",
      "[\u001b[1;33m2\u001b[m]. Ração GranPlus (15kg) Cães................  Categoria: Alimento.... Preço: R$ 89.00 ... Unidades: 20\n",
      "\n",
      "[\u001b[1;33m3\u001b[m]. Ração Magnus para Cães (15kg).............  Categoria: Alimento.... Preço: R$ 99.90 ... Unidades: 15\n",
      "\n",
      "[\u001b[1;33m4\u001b[m]. GranPlus Sachê Cães Carne 100g............  Categoria: Alimento.... Preço: R$ 2.89 ... Unidades: 30\n",
      "\n",
      "[\u001b[1;33m5\u001b[m]. GranPlus Sachê Gatos Carne 100g...........  Categoria: Alimento.... Preço: R$ 2.78 ... Unidades: 35\n",
      "\n",
      "[\u001b[1;33m6\u001b[m]. Whiskas Sachê Carne ao Molho Gatos 85g....  Categoria: Alimento.... Preço: R$ 3.05 ... Unidades: 28\n",
      "\n",
      "[\u001b[1;33m7\u001b[m]. Pedigree Sachê Cães Carne ao Molho 100g...  Categoria: Alimento.... Preço: R$ 3.05 ... Unidades: 25\n",
      "\n",
      "[\u001b[1;33m8\u001b[m]. Shampoo Hipoalergênico (500ml)............  Categoria: Higiêne..... Preço: R$ 39.99 ... Unidades: 15\n",
      "\n",
      "[\u001b[1;33m9\u001b[m]. Shampoo Antisséptico (500ml)..............  Categoria: Higiêne..... Preço: R$ 59.99 ... Unidades: 17\n",
      "\n",
      "[\u001b[1;33m10\u001b[m]. Lenços Umedecidos.........................  Categoria: Higiêne..... Preço: R$ 24.99 ... Unidades: 30\n",
      "\n",
      "[\u001b[1;33m11\u001b[m]. Areia Higiênica Petz Grãos Finos (12Kg)...  Categoria: Higiêne..... Preço: R$ 39.99 ... Unidades: 10\n",
      "\n",
      "[\u001b[1;33m12\u001b[m]. Coleira Peitoral Ajustável................  Categoria: Acessório... Preço: R$ 34.99 ... Unidades: 15\n",
      "\n",
      "[\u001b[1;33m13\u001b[m]. Guia Retrátil Chalesco....................  Categoria: Acessório... Preço: R$ 27.99 ... Unidades: 5\n",
      "\n",
      "[\u001b[1;33m14\u001b[m]. Cama Pet Cachorro/Gato tamanho Médio......  Categoria: Acessório... Preço: R$ 48.99 ... Unidades: 7\n",
      "\n",
      "[\u001b[1;33m15\u001b[m]. Colchão Cachorro Grande 90x60cm...........  Categoria: Acessório... Preço: R$ 78.80 ... Unidades: 5\n",
      "\n"
     ]
    }
   ],
   "source": [
    "# Passo a Passo: Sistema de Encomendas\n",
    "# 1. Criar lista de produtos \n",
    "produtos = ['Ração Golden Adulto (15kg) Cães', 'Ração GranPlus (15kg) Cães',\n",
    "        'Ração Magnus para Cães (15kg)', 'GranPlus Sachê Cães Carne 100g',\n",
    "        'GranPlus Sachê Gatos Carne 100g', 'Whiskas Sachê Carne ao Molho Gatos 85g',\n",
    "        'Pedigree Sachê Cães Carne ao Molho 100g', 'Shampoo Hipoalergênico (500ml)',\n",
    "        'Shampoo Antisséptico (500ml)', 'Lenços Umedecidos',\n",
    "        'Areia Higiênica Petz Grãos Finos (12Kg)', 'Coleira Peitoral Ajustável', \n",
    "        'Guia Retrátil Chalesco', 'Cama Pet Cachorro/Gato tamanho Médio',\n",
    "        'Colchão Cachorro Grande 90x60cm']\n",
    "categorias = ['Alimento', 'Alimento', 'Alimento', 'Alimento', 'Alimento', 'Alimento', 'Alimento', \n",
    "              'Higiêne', 'Higiêne', 'Higiêne', 'Higiêne', 'Acessório', 'Acessório', \n",
    "              'Acessório', 'Acessório']\n",
    "precos= [149.99, 89.00, 99.90, 2.89, 2.78, 3.05, 3.05, 39.99, 59.99, 24.99, \n",
    "         39.99, 34.99,  27.99, 48.99, 78.80]\n",
    "estoque = [15, 20, 15, 30,35, 28, 25, 15, 17,  \n",
    "           30, 10, 15, 5, 7, 5]\n",
    "\n",
    "#    1.1. Exibir lista de produtos disponíveis \n",
    "print(\"LISTA DE PRODUTOS\".center(100))\n",
    "print()\n",
    "for i in range(len(produtos)):\n",
    "    print(f'\\n[\\033[1;33m{i+1}\\033[m]. {produtos[i]:.<42}  Categoria: {categorias[i]:.<12} Preço: R$ {precos[i]:.2f} ... Unidades: {estoque[i]}')\n",
    "print()\n"
   ]
  },
  {
   "cell_type": "code",
   "execution_count": null,
   "id": "9e043045-cbeb-4750-914a-dbb3853a62e5",
   "metadata": {},
   "outputs": [],
   "source": [
    "#    1.3. Criar dicionário vazio para armazenar encomendas dos clientes -\n",
    "encomendas = {}\n",
    "while True:\n",
    "    #  2.1. Input para inserir o nome do cliente\n",
    "    cliente = input(\"Digite o nome do cliente: \").title()\n",
    "    # 2.2. Verificar se o cliente ja existe e criar lista vazia\n",
    "    if cliente not in encomendas:\n",
    "        # 2.3. Criar lista vazia para os produtos do cliente atual\n",
    "        encomendas[cliente] = []\n",
    "        break\n",
    "    else:\n",
    "        print(\"Cliente ja existe, Por favor insirar outro usuário \\n \")\n",
    "        break"
   ]
  },
  {
   "cell_type": "code",
   "execution_count": null,
   "id": "d271acaf-09da-411e-a578-e9339cd0b083",
   "metadata": {},
   "outputs": [],
   "source": [
    "print(encomendas)"
   ]
  },
  {
   "cell_type": "code",
   "execution_count": 95,
   "id": "a043585f-fb1d-460f-9c10-ee85d6d374a1",
   "metadata": {},
   "outputs": [
    {
     "name": "stdin",
     "output_type": "stream",
     "text": [
      " \u001b[1;30m Digite o número do produto: \u001b[m 1\n",
      "Quantas unidade:  1\n"
     ]
    },
    {
     "name": "stdout",
     "output_type": "stream",
     "text": [
      "\n",
      "Você adicionou:\n",
      "\t Produto: Ração Golden Adulto (15kg) Cães\n"
     ]
    },
    {
     "ename": "NameError",
     "evalue": "name 'encomendas' is not defined",
     "output_type": "error",
     "traceback": [
      "\u001b[1;31m---------------------------------------------------------------------------\u001b[0m",
      "\u001b[1;31mNameError\u001b[0m                                 Traceback (most recent call last)",
      "Cell \u001b[1;32mIn[95], line 24\u001b[0m\n\u001b[0;32m     22\u001b[0m \u001b[38;5;66;03m# Mostar a compra e adicionar na variável encomendas\u001b[39;00m\n\u001b[0;32m     23\u001b[0m \u001b[38;5;28mprint\u001b[39m(\u001b[38;5;124mf\u001b[39m\u001b[38;5;124m'\u001b[39m\u001b[38;5;130;01m\\t\u001b[39;00m\u001b[38;5;124m Produto: \u001b[39m\u001b[38;5;132;01m{\u001b[39;00mproduto_selecionado\u001b[38;5;132;01m}\u001b[39;00m\u001b[38;5;124m'\u001b[39m) \u001b[38;5;66;03m# Mostrar o produto selecionado\u001b[39;00m\n\u001b[1;32m---> 24\u001b[0m encomendas[cliente]\u001b[38;5;241m.\u001b[39mappend(produto_selecionado) \u001b[38;5;66;03m# Adicionar o produto na lista de encomendas\u001b[39;00m\n\u001b[0;32m     26\u001b[0m \u001b[38;5;28mprint\u001b[39m(\u001b[38;5;124mf\u001b[39m\u001b[38;5;124m'\u001b[39m\u001b[38;5;130;01m\\t\u001b[39;00m\u001b[38;5;124m Categoria: \u001b[39m\u001b[38;5;132;01m{\u001b[39;00mcategoria_selecionada\u001b[38;5;132;01m}\u001b[39;00m\u001b[38;5;124m'\u001b[39m) \u001b[38;5;66;03m# Mostrar a categoria\u001b[39;00m\n\u001b[0;32m     27\u001b[0m encomendas[cliente]\u001b[38;5;241m.\u001b[39mappend(categoria_selecionada) \u001b[38;5;66;03m# Adicionar a categoria na lista de compras\u001b[39;00m\n",
      "\u001b[1;31mNameError\u001b[0m: name 'encomendas' is not defined"
     ]
    }
   ],
   "source": [
    "# 3. Seleção de Produtos\n",
    "#    3.1. Input para o cliente selecionar um produto - OK\n",
    "menu_opcao = int(input(' \\033[1;30m Digite o número do produto: \\033[m'))\n",
    "\n",
    "\n",
    "#    3.2. Input para a quantidade desejada do produto - OK\n",
    "quant_produto = int(input('Quantas unidade: '))\n",
    "print()\n",
    "\n",
    "#   3.3.  Selecionar o produto\n",
    "if menu_opcao <= len(produtos):\n",
    "    produto_selecionado = produtos[menu_opcao - 1]\n",
    "    categoria_selecionada = categorias[menu_opcao - 1]\n",
    "    preco_unitario = precos[menu_opcao - 1]\n",
    "    total_produto = quant_produto * preco_unitario\n",
    "    quant_estoque = estoque[menu_opcao - 1]\n",
    "\n",
    "    #    3.3. Verificar se há estoque suficiente\n",
    "    while True:\n",
    "        if quant_estoque > 0 and quant_estoque >= quant_produto:\n",
    "            print(\"Você adicionou:\")\n",
    "            # Mostar a compra e adicionar na variável encomendas\n",
    "            print(f'\\t Produto: {produto_selecionado}') # Mostrar o produto selecionado\n",
    "            encomendas[cliente].append(produto_selecionado) # Adicionar o produto na lista de encomendas\n",
    "        \n",
    "            print(f'\\t Categoria: {categoria_selecionada}') # Mostrar a categoria\n",
    "            encomendas[cliente].append(categoria_selecionada) # Adicionar a categoria na lista de compras\n",
    "        \n",
    "            print(f'\\t Preço unitário: {preco_unitario}') # Mostrar o preoço unitário\n",
    "\n",
    "            print(f'\\t Quantidade: {quant_produto}') # Mostrar a quantidade de produtos comprado\n",
    "            encomendas[cliente].append(quant_produto) # Adicionar quandidade de produtos na lista de compras\n",
    "\n",
    "            print(f'\\n\\t Total do produto: {total_produto:.2f}') # Mostrar o Total da compta\n",
    "            encomendas[cliente].append(f'{total_produto:.2f}') # Adicionar o total da compra na lista\n",
    "            break\n",
    "        else:\n",
    "            print(f'\\033[31m Quantidade insuficiente. Estoque: {quant_estoque} \\n')\n",
    "    \n",
    "            continuar = input('Deseja comprar este produto [S/N]: ').upper()\n",
    "            \n",
    "            if continuar == 'S':\n",
    "                quant_produto = int(input('Quantas unidade: '))\n",
    "\n",
    "                # print(f'\\n\\t Total do produto: {total_produto:.2f}') # Mostrar o Total da compta\n",
    "                # encomendas[cliente].append(f'{total_produto:.2f}') # Adicionar o total da compra na lista\n",
    "            elif continuar == 'N':\n",
    "                break     \n"
   ]
  },
  {
   "cell_type": "code",
   "execution_count": null,
   "id": "5cb1a359-46de-400a-a455-fba624f981d4",
   "metadata": {},
   "outputs": [],
   "source": [
    "print(encomendas)"
   ]
  },
  {
   "cell_type": "code",
   "execution_count": null,
   "id": "6a8056ba-1b60-4803-a53c-d945eed9fab5",
   "metadata": {},
   "outputs": [],
   "source": [
    "print(\"\\033[7;30mTeste\\033[m (letra preta)\")"
   ]
  },
  {
   "cell_type": "code",
   "execution_count": 145,
   "id": "53cfb64d-387f-4979-b3a3-8d45c194e100",
   "metadata": {},
   "outputs": [
    {
     "name": "stdout",
     "output_type": "stream",
     "text": [
      "------------------------------------\n",
      "===== << \u001b[m LISTA DE PRODUTOS \u001b[0;0m>> =====\n",
      "------------------------------------\n",
      "|       [\u001b[1;34m1\u001b[m] Cadastrar Cliente      |\n",
      "|       [\u001b[1;34m2\u001b[0;0m] Mostrar Clientee       |\n",
      "|       [\u001b[1;34m3\u001b[0;0m] Gerar Relatório        |\n",
      "|       [\u001b[1;34m4\u001b[0;0m] Sair                   |\n",
      "-----------------------------------\n"
     ]
    }
   ],
   "source": [
    "print(f'-'*36)\n",
    "print(f\"{'=' * 5} << \\033[1;34m LISTA DE PRODUTOS \\033[0;0m>> {'=' * 5}\")\n",
    "print('-'*36)\n",
    "\n",
    "print('|       [''\\033[1;34m''1''\\033[m''] Cadastrar Cliente      |'.center(45))\n",
    "print('|       [''\\033[1;34m''2''\\033[0;0m''] Mostrar Clientee       |'.center(45))\n",
    "print('|       [''\\033[1;34m''3''\\033[0;0m''] Gerar Relatório        |'.center(45))\n",
    "print('|       [''\\033[1;34m''4''\\033[0;0m''] Sair                   |'.center(46))\n",
    "# print(f\"\\033[1;34m[2] \\033[0;0m Dados do CLiente\".center(46))\n",
    "# print(f\"\\033[1;34m[3] \\033[0;0m Mostrar Cliente\".center(44))\n",
    "# print(f\"\\033[1;34m[4] \\033[0;0m Gerar Relatório\".center(44))\n",
    "# print(f\"\\033[1;34m[0] \\033[m Sair\".center(33))\n",
    "print('-'*35)"
   ]
  },
  {
   "cell_type": "code",
   "execution_count": 148,
   "id": "0cf45053-0c50-4d5a-8fcc-be1ec84b96ab",
   "metadata": {},
   "outputs": [
    {
     "name": "stdin",
     "output_type": "stream",
     "text": [
      "\u001b[1;36m Insira a opcao: \u001b[0;0m 3\n"
     ]
    }
   ],
   "source": [
    "x = input(f'\\033[1;36m Insira a opcao: \\033[0;0m')"
   ]
  }
 ],
 "metadata": {
  "kernelspec": {
   "display_name": "Python 3 (ipykernel)",
   "language": "python",
   "name": "python3"
  },
  "language_info": {
   "codemirror_mode": {
    "name": "ipython",
    "version": 3
   },
   "file_extension": ".py",
   "mimetype": "text/x-python",
   "name": "python",
   "nbconvert_exporter": "python",
   "pygments_lexer": "ipython3",
   "version": "3.11.7"
  }
 },
 "nbformat": 4,
 "nbformat_minor": 5
}
